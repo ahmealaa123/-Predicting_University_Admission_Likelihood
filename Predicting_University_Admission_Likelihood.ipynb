{
 "cells": [
  {
   "cell_type": "code",
   "execution_count": 103,
   "metadata": {
    "id": "d0T2K9jagWvl"
   },
   "outputs": [],
   "source": [
    "import pandas as pd\n",
    "import numpy as np\n",
    "import matplotlib.pyplot as plt\n",
    "import seaborn as sns"
   ]
  },
  {
   "cell_type": "code",
   "execution_count": 105,
   "metadata": {
    "id": "dH3XvWL0hwDo"
   },
   "outputs": [],
   "source": [
    "data = pd.read_csv('mission5.csv')"
   ]
  },
  {
   "cell_type": "code",
   "execution_count": 107,
   "metadata": {
    "colab": {
     "base_uri": "https://localhost:8080/",
     "height": 223
    },
    "id": "Cx0KlSVFh0rp",
    "outputId": "bd85df25-b993-4a65-b3ec-a2b7c3ba3267"
   },
   "outputs": [
    {
     "data": {
      "text/html": [
       "<div>\n",
       "<style scoped>\n",
       "    .dataframe tbody tr th:only-of-type {\n",
       "        vertical-align: middle;\n",
       "    }\n",
       "\n",
       "    .dataframe tbody tr th {\n",
       "        vertical-align: top;\n",
       "    }\n",
       "\n",
       "    .dataframe thead th {\n",
       "        text-align: right;\n",
       "    }\n",
       "</style>\n",
       "<table border=\"1\" class=\"dataframe\">\n",
       "  <thead>\n",
       "    <tr style=\"text-align: right;\">\n",
       "      <th></th>\n",
       "      <th>GPA</th>\n",
       "      <th>Test Score</th>\n",
       "      <th>Extracurricular Activities</th>\n",
       "      <th>Volunteer Hours</th>\n",
       "      <th>Recommendation Letters</th>\n",
       "      <th>Essay Score</th>\n",
       "      <th>Accepted</th>\n",
       "    </tr>\n",
       "  </thead>\n",
       "  <tbody>\n",
       "    <tr>\n",
       "      <th>0</th>\n",
       "      <td>2.75</td>\n",
       "      <td>1374</td>\n",
       "      <td>5</td>\n",
       "      <td>16</td>\n",
       "      <td>2</td>\n",
       "      <td>9</td>\n",
       "      <td>No</td>\n",
       "    </tr>\n",
       "    <tr>\n",
       "      <th>1</th>\n",
       "      <td>3.90</td>\n",
       "      <td>1542</td>\n",
       "      <td>7</td>\n",
       "      <td>27</td>\n",
       "      <td>3</td>\n",
       "      <td>3</td>\n",
       "      <td>Yes</td>\n",
       "    </tr>\n",
       "    <tr>\n",
       "      <th>2</th>\n",
       "      <td>3.46</td>\n",
       "      <td>1040</td>\n",
       "      <td>4</td>\n",
       "      <td>29</td>\n",
       "      <td>1</td>\n",
       "      <td>9</td>\n",
       "      <td>No</td>\n",
       "    </tr>\n",
       "    <tr>\n",
       "      <th>3</th>\n",
       "      <td>3.20</td>\n",
       "      <td>1363</td>\n",
       "      <td>3</td>\n",
       "      <td>28</td>\n",
       "      <td>2</td>\n",
       "      <td>1</td>\n",
       "      <td>No</td>\n",
       "    </tr>\n",
       "    <tr>\n",
       "      <th>4</th>\n",
       "      <td>2.31</td>\n",
       "      <td>895</td>\n",
       "      <td>1</td>\n",
       "      <td>5</td>\n",
       "      <td>1</td>\n",
       "      <td>1</td>\n",
       "      <td>No</td>\n",
       "    </tr>\n",
       "  </tbody>\n",
       "</table>\n",
       "</div>"
      ],
      "text/plain": [
       "    GPA  Test Score  Extracurricular Activities  Volunteer Hours  \\\n",
       "0  2.75        1374                           5               16   \n",
       "1  3.90        1542                           7               27   \n",
       "2  3.46        1040                           4               29   \n",
       "3  3.20        1363                           3               28   \n",
       "4  2.31         895                           1                5   \n",
       "\n",
       "   Recommendation Letters  Essay Score Accepted  \n",
       "0                       2            9       No  \n",
       "1                       3            3      Yes  \n",
       "2                       1            9       No  \n",
       "3                       2            1       No  \n",
       "4                       1            1       No  "
      ]
     },
     "execution_count": 107,
     "metadata": {},
     "output_type": "execute_result"
    }
   ],
   "source": [
    "data.head()"
   ]
  },
  {
   "cell_type": "code",
   "execution_count": 108,
   "metadata": {
    "id": "Ix-2zOTHh2Uf"
   },
   "outputs": [],
   "source": [
    "data['Accepted'] = data['Accepted'].map({\"No\":0, \"Yes\":1})"
   ]
  },
  {
   "cell_type": "code",
   "execution_count": 109,
   "metadata": {
    "colab": {
     "base_uri": "https://localhost:8080/",
     "height": 223
    },
    "id": "45M2Pp-tiEBz",
    "outputId": "19197fab-f91a-4e3e-a6ef-a17614843e82"
   },
   "outputs": [
    {
     "data": {
      "text/html": [
       "<div>\n",
       "<style scoped>\n",
       "    .dataframe tbody tr th:only-of-type {\n",
       "        vertical-align: middle;\n",
       "    }\n",
       "\n",
       "    .dataframe tbody tr th {\n",
       "        vertical-align: top;\n",
       "    }\n",
       "\n",
       "    .dataframe thead th {\n",
       "        text-align: right;\n",
       "    }\n",
       "</style>\n",
       "<table border=\"1\" class=\"dataframe\">\n",
       "  <thead>\n",
       "    <tr style=\"text-align: right;\">\n",
       "      <th></th>\n",
       "      <th>GPA</th>\n",
       "      <th>Test Score</th>\n",
       "      <th>Extracurricular Activities</th>\n",
       "      <th>Volunteer Hours</th>\n",
       "      <th>Recommendation Letters</th>\n",
       "      <th>Essay Score</th>\n",
       "      <th>Accepted</th>\n",
       "    </tr>\n",
       "  </thead>\n",
       "  <tbody>\n",
       "    <tr>\n",
       "      <th>0</th>\n",
       "      <td>2.75</td>\n",
       "      <td>1374</td>\n",
       "      <td>5</td>\n",
       "      <td>16</td>\n",
       "      <td>2</td>\n",
       "      <td>9</td>\n",
       "      <td>0</td>\n",
       "    </tr>\n",
       "    <tr>\n",
       "      <th>1</th>\n",
       "      <td>3.90</td>\n",
       "      <td>1542</td>\n",
       "      <td>7</td>\n",
       "      <td>27</td>\n",
       "      <td>3</td>\n",
       "      <td>3</td>\n",
       "      <td>1</td>\n",
       "    </tr>\n",
       "    <tr>\n",
       "      <th>2</th>\n",
       "      <td>3.46</td>\n",
       "      <td>1040</td>\n",
       "      <td>4</td>\n",
       "      <td>29</td>\n",
       "      <td>1</td>\n",
       "      <td>9</td>\n",
       "      <td>0</td>\n",
       "    </tr>\n",
       "    <tr>\n",
       "      <th>3</th>\n",
       "      <td>3.20</td>\n",
       "      <td>1363</td>\n",
       "      <td>3</td>\n",
       "      <td>28</td>\n",
       "      <td>2</td>\n",
       "      <td>1</td>\n",
       "      <td>0</td>\n",
       "    </tr>\n",
       "    <tr>\n",
       "      <th>4</th>\n",
       "      <td>2.31</td>\n",
       "      <td>895</td>\n",
       "      <td>1</td>\n",
       "      <td>5</td>\n",
       "      <td>1</td>\n",
       "      <td>1</td>\n",
       "      <td>0</td>\n",
       "    </tr>\n",
       "  </tbody>\n",
       "</table>\n",
       "</div>"
      ],
      "text/plain": [
       "    GPA  Test Score  Extracurricular Activities  Volunteer Hours  \\\n",
       "0  2.75        1374                           5               16   \n",
       "1  3.90        1542                           7               27   \n",
       "2  3.46        1040                           4               29   \n",
       "3  3.20        1363                           3               28   \n",
       "4  2.31         895                           1                5   \n",
       "\n",
       "   Recommendation Letters  Essay Score  Accepted  \n",
       "0                       2            9         0  \n",
       "1                       3            3         1  \n",
       "2                       1            9         0  \n",
       "3                       2            1         0  \n",
       "4                       1            1         0  "
      ]
     },
     "execution_count": 109,
     "metadata": {},
     "output_type": "execute_result"
    }
   ],
   "source": [
    "data.head()"
   ]
  },
  {
   "cell_type": "code",
   "execution_count": 110,
   "metadata": {
    "colab": {
     "base_uri": "https://localhost:8080/",
     "height": 303
    },
    "id": "SVOJFG_ZjIdv",
    "outputId": "231bc5a8-5486-4390-9a26-d4e7103453fc"
   },
   "outputs": [
    {
     "data": {
      "text/plain": [
       "GPA                           0\n",
       "Test Score                    0\n",
       "Extracurricular Activities    0\n",
       "Volunteer Hours               0\n",
       "Recommendation Letters        0\n",
       "Essay Score                   0\n",
       "Accepted                      0\n",
       "dtype: int64"
      ]
     },
     "execution_count": 110,
     "metadata": {},
     "output_type": "execute_result"
    }
   ],
   "source": [
    "data.isna().sum()"
   ]
  },
  {
   "cell_type": "code",
   "execution_count": 111,
   "metadata": {
    "id": "ziX8BjTuiH89"
   },
   "outputs": [],
   "source": [
    "# from sklearn.preprocessing import LabelEncoder\n",
    "# le={}\n",
    "# le_col=['Accepted']\n",
    "# for col in le_col:\n",
    "#     le[col]=LabelEncoder()\n",
    "#     data[col]=le[col].fit_transform(data[col])"
   ]
  },
  {
   "cell_type": "code",
   "execution_count": 112,
   "metadata": {},
   "outputs": [],
   "source": [
    "import joblib "
   ]
  },
  {
   "cell_type": "code",
   "execution_count": 114,
   "metadata": {
    "colab": {
     "base_uri": "https://localhost:8080/",
     "height": 223
    },
    "id": "yX100vVPi16c",
    "outputId": "c8a67792-bceb-45f3-b791-519ba8b24628"
   },
   "outputs": [
    {
     "data": {
      "text/html": [
       "<div>\n",
       "<style scoped>\n",
       "    .dataframe tbody tr th:only-of-type {\n",
       "        vertical-align: middle;\n",
       "    }\n",
       "\n",
       "    .dataframe tbody tr th {\n",
       "        vertical-align: top;\n",
       "    }\n",
       "\n",
       "    .dataframe thead th {\n",
       "        text-align: right;\n",
       "    }\n",
       "</style>\n",
       "<table border=\"1\" class=\"dataframe\">\n",
       "  <thead>\n",
       "    <tr style=\"text-align: right;\">\n",
       "      <th></th>\n",
       "      <th>GPA</th>\n",
       "      <th>Test Score</th>\n",
       "      <th>Extracurricular Activities</th>\n",
       "      <th>Volunteer Hours</th>\n",
       "      <th>Recommendation Letters</th>\n",
       "      <th>Essay Score</th>\n",
       "      <th>Accepted</th>\n",
       "    </tr>\n",
       "  </thead>\n",
       "  <tbody>\n",
       "    <tr>\n",
       "      <th>0</th>\n",
       "      <td>2.75</td>\n",
       "      <td>1374</td>\n",
       "      <td>5</td>\n",
       "      <td>16</td>\n",
       "      <td>2</td>\n",
       "      <td>9</td>\n",
       "      <td>0</td>\n",
       "    </tr>\n",
       "    <tr>\n",
       "      <th>1</th>\n",
       "      <td>3.90</td>\n",
       "      <td>1542</td>\n",
       "      <td>7</td>\n",
       "      <td>27</td>\n",
       "      <td>3</td>\n",
       "      <td>3</td>\n",
       "      <td>1</td>\n",
       "    </tr>\n",
       "    <tr>\n",
       "      <th>2</th>\n",
       "      <td>3.46</td>\n",
       "      <td>1040</td>\n",
       "      <td>4</td>\n",
       "      <td>29</td>\n",
       "      <td>1</td>\n",
       "      <td>9</td>\n",
       "      <td>0</td>\n",
       "    </tr>\n",
       "    <tr>\n",
       "      <th>3</th>\n",
       "      <td>3.20</td>\n",
       "      <td>1363</td>\n",
       "      <td>3</td>\n",
       "      <td>28</td>\n",
       "      <td>2</td>\n",
       "      <td>1</td>\n",
       "      <td>0</td>\n",
       "    </tr>\n",
       "    <tr>\n",
       "      <th>4</th>\n",
       "      <td>2.31</td>\n",
       "      <td>895</td>\n",
       "      <td>1</td>\n",
       "      <td>5</td>\n",
       "      <td>1</td>\n",
       "      <td>1</td>\n",
       "      <td>0</td>\n",
       "    </tr>\n",
       "  </tbody>\n",
       "</table>\n",
       "</div>"
      ],
      "text/plain": [
       "    GPA  Test Score  Extracurricular Activities  Volunteer Hours  \\\n",
       "0  2.75        1374                           5               16   \n",
       "1  3.90        1542                           7               27   \n",
       "2  3.46        1040                           4               29   \n",
       "3  3.20        1363                           3               28   \n",
       "4  2.31         895                           1                5   \n",
       "\n",
       "   Recommendation Letters  Essay Score  Accepted  \n",
       "0                       2            9         0  \n",
       "1                       3            3         1  \n",
       "2                       1            9         0  \n",
       "3                       2            1         0  \n",
       "4                       1            1         0  "
      ]
     },
     "execution_count": 114,
     "metadata": {},
     "output_type": "execute_result"
    }
   ],
   "source": [
    "data.head()"
   ]
  },
  {
   "cell_type": "code",
   "execution_count": 115,
   "metadata": {},
   "outputs": [
    {
     "data": {
      "text/plain": [
       "Index(['GPA', 'Test Score', 'Extracurricular Activities', 'Volunteer Hours',\n",
       "       'Recommendation Letters', 'Essay Score', 'Accepted'],\n",
       "      dtype='object')"
      ]
     },
     "execution_count": 115,
     "metadata": {},
     "output_type": "execute_result"
    }
   ],
   "source": [
    "data.columns"
   ]
  },
  {
   "cell_type": "code",
   "execution_count": 116,
   "metadata": {},
   "outputs": [],
   "source": [
    "from sklearn.preprocessing import StandardScaler,LabelEncoder"
   ]
  },
  {
   "cell_type": "code",
   "execution_count": 117,
   "metadata": {},
   "outputs": [],
   "source": [
    "std_col=['GPA', 'Test Score', 'Extracurricular Activities', 'Volunteer Hours','Recommendation Letters', 'Essay Score']\n",
    "std=StandardScaler()\n",
    "data[std_col]=std.fit_transform(data[std_col])"
   ]
  },
  {
   "cell_type": "code",
   "execution_count": 118,
   "metadata": {},
   "outputs": [
    {
     "data": {
      "text/plain": [
       "['std_col.pkl']"
      ]
     },
     "execution_count": 118,
     "metadata": {},
     "output_type": "execute_result"
    }
   ],
   "source": [
    "joblib.dump(std,'std_col.pkl')"
   ]
  },
  {
   "cell_type": "code",
   "execution_count": 120,
   "metadata": {
    "colab": {
     "base_uri": "https://localhost:8080/"
    },
    "id": "amXghS4Yi5Sg",
    "outputId": "d4e26c9b-490b-4a84-de52-5d81d33217e7"
   },
   "outputs": [],
   "source": [
    "x=data.drop('Accepted', axis=1)"
   ]
  },
  {
   "cell_type": "code",
   "execution_count": 121,
   "metadata": {
    "colab": {
     "base_uri": "https://localhost:8080/",
     "height": 317
    },
    "id": "WGf-UN27jjA6",
    "outputId": "80863380-bf4c-48fe-eba0-bb236062737e"
   },
   "outputs": [
    {
     "data": {
      "text/html": [
       "<div>\n",
       "<style scoped>\n",
       "    .dataframe tbody tr th:only-of-type {\n",
       "        vertical-align: middle;\n",
       "    }\n",
       "\n",
       "    .dataframe tbody tr th {\n",
       "        vertical-align: top;\n",
       "    }\n",
       "\n",
       "    .dataframe thead th {\n",
       "        text-align: right;\n",
       "    }\n",
       "</style>\n",
       "<table border=\"1\" class=\"dataframe\">\n",
       "  <thead>\n",
       "    <tr style=\"text-align: right;\">\n",
       "      <th></th>\n",
       "      <th>GPA</th>\n",
       "      <th>Test Score</th>\n",
       "      <th>Extracurricular Activities</th>\n",
       "      <th>Volunteer Hours</th>\n",
       "      <th>Recommendation Letters</th>\n",
       "      <th>Essay Score</th>\n",
       "      <th>Accepted</th>\n",
       "    </tr>\n",
       "  </thead>\n",
       "  <tbody>\n",
       "    <tr>\n",
       "      <th>count</th>\n",
       "      <td>1.020000e+02</td>\n",
       "      <td>1.020000e+02</td>\n",
       "      <td>1.020000e+02</td>\n",
       "      <td>1.020000e+02</td>\n",
       "      <td>1.020000e+02</td>\n",
       "      <td>1.020000e+02</td>\n",
       "      <td>102.000000</td>\n",
       "    </tr>\n",
       "    <tr>\n",
       "      <th>mean</th>\n",
       "      <td>-1.871324e-15</td>\n",
       "      <td>-1.523836e-16</td>\n",
       "      <td>-1.741526e-17</td>\n",
       "      <td>6.313033e-17</td>\n",
       "      <td>1.262607e-16</td>\n",
       "      <td>-8.272250e-17</td>\n",
       "      <td>0.500000</td>\n",
       "    </tr>\n",
       "    <tr>\n",
       "      <th>std</th>\n",
       "      <td>1.004938e+00</td>\n",
       "      <td>1.004938e+00</td>\n",
       "      <td>1.004938e+00</td>\n",
       "      <td>1.004938e+00</td>\n",
       "      <td>1.004938e+00</td>\n",
       "      <td>1.004938e+00</td>\n",
       "      <td>0.502469</td>\n",
       "    </tr>\n",
       "    <tr>\n",
       "      <th>min</th>\n",
       "      <td>-1.590708e+00</td>\n",
       "      <td>-2.020569e+00</td>\n",
       "      <td>-1.434506e+00</td>\n",
       "      <td>-1.792710e+00</td>\n",
       "      <td>-1.052229e+00</td>\n",
       "      <td>-1.638788e+00</td>\n",
       "      <td>0.000000</td>\n",
       "    </tr>\n",
       "    <tr>\n",
       "      <th>25%</th>\n",
       "      <td>-9.383221e-01</td>\n",
       "      <td>-9.366523e-01</td>\n",
       "      <td>-6.936472e-01</td>\n",
       "      <td>-7.552266e-01</td>\n",
       "      <td>-1.052229e+00</td>\n",
       "      <td>-9.408489e-01</td>\n",
       "      <td>0.000000</td>\n",
       "    </tr>\n",
       "    <tr>\n",
       "      <th>50%</th>\n",
       "      <td>3.812482e-02</td>\n",
       "      <td>7.032657e-02</td>\n",
       "      <td>-3.232178e-01</td>\n",
       "      <td>1.093426e-01</td>\n",
       "      <td>1.957635e-01</td>\n",
       "      <td>-6.842537e-02</td>\n",
       "      <td>0.500000</td>\n",
       "    </tr>\n",
       "    <tr>\n",
       "      <th>75%</th>\n",
       "      <td>8.823890e-01</td>\n",
       "      <td>8.894869e-01</td>\n",
       "      <td>7.880703e-01</td>\n",
       "      <td>8.658406e-01</td>\n",
       "      <td>1.131758e+00</td>\n",
       "      <td>1.152968e+00</td>\n",
       "      <td>1.000000</td>\n",
       "    </tr>\n",
       "    <tr>\n",
       "      <th>max</th>\n",
       "      <td>1.752237e+00</td>\n",
       "      <td>1.581926e+00</td>\n",
       "      <td>1.899358e+00</td>\n",
       "      <td>1.579110e+00</td>\n",
       "      <td>1.443756e+00</td>\n",
       "      <td>1.501937e+00</td>\n",
       "      <td>1.000000</td>\n",
       "    </tr>\n",
       "  </tbody>\n",
       "</table>\n",
       "</div>"
      ],
      "text/plain": [
       "                GPA    Test Score  Extracurricular Activities  \\\n",
       "count  1.020000e+02  1.020000e+02                1.020000e+02   \n",
       "mean  -1.871324e-15 -1.523836e-16               -1.741526e-17   \n",
       "std    1.004938e+00  1.004938e+00                1.004938e+00   \n",
       "min   -1.590708e+00 -2.020569e+00               -1.434506e+00   \n",
       "25%   -9.383221e-01 -9.366523e-01               -6.936472e-01   \n",
       "50%    3.812482e-02  7.032657e-02               -3.232178e-01   \n",
       "75%    8.823890e-01  8.894869e-01                7.880703e-01   \n",
       "max    1.752237e+00  1.581926e+00                1.899358e+00   \n",
       "\n",
       "       Volunteer Hours  Recommendation Letters   Essay Score    Accepted  \n",
       "count     1.020000e+02            1.020000e+02  1.020000e+02  102.000000  \n",
       "mean      6.313033e-17            1.262607e-16 -8.272250e-17    0.500000  \n",
       "std       1.004938e+00            1.004938e+00  1.004938e+00    0.502469  \n",
       "min      -1.792710e+00           -1.052229e+00 -1.638788e+00    0.000000  \n",
       "25%      -7.552266e-01           -1.052229e+00 -9.408489e-01    0.000000  \n",
       "50%       1.093426e-01            1.957635e-01 -6.842537e-02    0.500000  \n",
       "75%       8.658406e-01            1.131758e+00  1.152968e+00    1.000000  \n",
       "max       1.579110e+00            1.443756e+00  1.501937e+00    1.000000  "
      ]
     },
     "execution_count": 121,
     "metadata": {},
     "output_type": "execute_result"
    }
   ],
   "source": [
    "data.describe()"
   ]
  },
  {
   "cell_type": "code",
   "execution_count": 122,
   "metadata": {
    "colab": {
     "base_uri": "https://localhost:8080/",
     "height": 847
    },
    "id": "9NHyBcXAjwfS",
    "outputId": "95a2119c-8031-406e-8624-569b683b1c99"
   },
   "outputs": [
    {
     "data": {
      "image/png": "[encoded data removed]",
      "text/plain": [
       "<Figure size 1000x1000 with 1 Axes>"
      ]
     },
     "metadata": {},
     "output_type": "display_data"
    }
   ],
   "source": [
    "plt.figure(figsize=(10,10))\n",
    "sns.histplot(x=data['GPA'], color=\"red\", kde=True)\n",
    "plt.xlabel('GPA')\n",
    "plt.ylabel('Count')\n",
    "plt.title('Distribution of GPA')\n",
    "plt.show()"
   ]
  },
  {
   "cell_type": "code",
   "execution_count": 123,
   "metadata": {
    "colab": {
     "base_uri": "https://localhost:8080/",
     "height": 835
    },
    "id": "jXZ-zZy2kMhJ",
    "outputId": "f2581339-3d4c-4d54-c560-2de9373eb6af"
   },
   "outputs": [
    {
     "data": {
      "image/png": "[encoded data removed]",
      "text/plain": [
       "<Figure size 1000x1000 with 1 Axes>"
      ]
     },
     "metadata": {},
     "output_type": "display_data"
    }
   ],
   "source": [
    "plt.figure(figsize=(10,10))\n",
    "sns.histplot(x=data['Test Score'], color=\"red\", kde=True)\n",
    "plt.xlabel('Test Score')\n",
    "plt.ylabel('Count')\n",
    "plt.title('Distribution of Test Score')\n",
    "plt.show()"
   ]
  },
  {
   "cell_type": "code",
   "execution_count": 124,
   "metadata": {
    "colab": {
     "base_uri": "https://localhost:8080/",
     "height": 892
    },
    "id": "Wu0A_-aDlBXs",
    "outputId": "425a673e-9d8d-438d-cd69-9976f9fd3901"
   },
   "outputs": [
    {
     "data": {
      "image/png": "[encoded data removed]",
      "text/plain": [
       "<Figure size 1000x1000 with 1 Axes>"
      ]
     },
     "metadata": {},
     "output_type": "display_data"
    }
   ],
   "source": [
    "plt.figure(figsize=(10,10))\n",
    "sns.scatterplot(x=data['Extracurricular Activities'], y=data['Accepted'], color=\"red\")\n",
    "plt.xlabel('Extracurricular Activities')\n",
    "plt.ylabel('Accepted')\n",
    "plt.title('relation between Extracurricular Activities  and Accepted')\n",
    "plt.show()"
   ]
  },
  {
   "cell_type": "code",
   "execution_count": 125,
   "metadata": {
    "colab": {
     "base_uri": "https://localhost:8080/",
     "height": 843
    },
    "id": "YLxQIWldlqtD",
    "outputId": "b16c242f-3387-4e73-dc1c-aaa0a63057eb"
   },
   "outputs": [
    {
     "data": {
      "image/png": "[encoded data removed]",
      "text/plain": [
       "<Figure size 1000x1000 with 1 Axes>"
      ]
     },
     "metadata": {},
     "output_type": "display_data"
    }
   ],
   "source": [
    "plt.figure(figsize=(10,10))\n",
    "sns.barplot(x=data['Volunteer Hours'], y=data['Accepted'], color=\"red\")\n",
    "plt.xlabel('Volunteer Hours')\n",
    "plt.ylabel('Accepted')\n",
    "plt.title('Impact of Volunteer Hours on Accepted')\n",
    "plt.show()"
   ]
  },
  {
   "cell_type": "code",
   "execution_count": 126,
   "metadata": {
    "colab": {
     "base_uri": "https://localhost:8080/",
     "height": 843
    },
    "id": "6RqfS3mXn17e",
    "outputId": "86bb94c3-0871-43e9-f7a8-99f2aa598838"
   },
   "outputs": [
    {
     "data": {
      "image/png": "[encoded data removed]",
      "text/plain": [
       "<Figure size 1000x1000 with 1 Axes>"
      ]
     },
     "metadata": {},
     "output_type": "display_data"
    }
   ],
   "source": [
    "plt.figure(figsize=(10,10))\n",
    "sns.barplot(x=data['Recommendation Letters'], y=data['Accepted'], color=\"red\")\n",
    "plt.xlabel('Recommendation Letters')\n",
    "plt.ylabel('Accepted')\n",
    "plt.title('Impact of Recommendation Letters on Accepted')\n",
    "plt.show()"
   ]
  },
  {
   "cell_type": "code",
   "execution_count": 127,
   "metadata": {
    "colab": {
     "base_uri": "https://localhost:8080/"
    },
    "id": "OKRvNrPJoJfO",
    "outputId": "6ff70167-0fe1-4b4f-ed63-a1806245cb30",
    "scrolled": true
   },
   "outputs": [
    {
     "data": {
      "text/html": [
       "<div>\n",
       "<style scoped>\n",
       "    .dataframe tbody tr th:only-of-type {\n",
       "        vertical-align: middle;\n",
       "    }\n",
       "\n",
       "    .dataframe tbody tr th {\n",
       "        vertical-align: top;\n",
       "    }\n",
       "\n",
       "    .dataframe thead th {\n",
       "        text-align: right;\n",
       "    }\n",
       "</style>\n",
       "<table border=\"1\" class=\"dataframe\">\n",
       "  <thead>\n",
       "    <tr style=\"text-align: right;\">\n",
       "      <th></th>\n",
       "      <th>GPA</th>\n",
       "      <th>Test Score</th>\n",
       "      <th>Extracurricular Activities</th>\n",
       "      <th>Volunteer Hours</th>\n",
       "      <th>Recommendation Letters</th>\n",
       "      <th>Essay Score</th>\n",
       "    </tr>\n",
       "  </thead>\n",
       "  <tbody>\n",
       "    <tr>\n",
       "      <th>0</th>\n",
       "      <td>-0.328576</td>\n",
       "      <td>0.572685</td>\n",
       "      <td>0.417641</td>\n",
       "      <td>-0.409399</td>\n",
       "      <td>0.195764</td>\n",
       "      <td>1.152968</td>\n",
       "    </tr>\n",
       "    <tr>\n",
       "      <th>1</th>\n",
       "      <td>1.632846</td>\n",
       "      <td>1.333010</td>\n",
       "      <td>1.158500</td>\n",
       "      <td>0.541627</td>\n",
       "      <td>1.443756</td>\n",
       "      <td>-0.940849</td>\n",
       "    </tr>\n",
       "    <tr>\n",
       "      <th>2</th>\n",
       "      <td>0.882389</td>\n",
       "      <td>-0.938915</td>\n",
       "      <td>0.047212</td>\n",
       "      <td>0.714541</td>\n",
       "      <td>-1.052229</td>\n",
       "      <td>1.152968</td>\n",
       "    </tr>\n",
       "    <tr>\n",
       "      <th>3</th>\n",
       "      <td>0.438937</td>\n",
       "      <td>0.522901</td>\n",
       "      <td>-0.323218</td>\n",
       "      <td>0.628084</td>\n",
       "      <td>0.195764</td>\n",
       "      <td>-1.638788</td>\n",
       "    </tr>\n",
       "    <tr>\n",
       "      <th>4</th>\n",
       "      <td>-1.079033</td>\n",
       "      <td>-1.595149</td>\n",
       "      <td>-1.064077</td>\n",
       "      <td>-1.360425</td>\n",
       "      <td>-1.052229</td>\n",
       "      <td>-1.638788</td>\n",
       "    </tr>\n",
       "    <tr>\n",
       "      <th>...</th>\n",
       "      <td>...</td>\n",
       "      <td>...</td>\n",
       "      <td>...</td>\n",
       "      <td>...</td>\n",
       "      <td>...</td>\n",
       "      <td>...</td>\n",
       "    </tr>\n",
       "    <tr>\n",
       "      <th>97</th>\n",
       "      <td>-0.140962</td>\n",
       "      <td>-1.472953</td>\n",
       "      <td>-0.693647</td>\n",
       "      <td>0.628084</td>\n",
       "      <td>1.443756</td>\n",
       "      <td>1.152968</td>\n",
       "    </tr>\n",
       "    <tr>\n",
       "      <th>98</th>\n",
       "      <td>-1.522485</td>\n",
       "      <td>-0.214796</td>\n",
       "      <td>-0.323218</td>\n",
       "      <td>-1.619796</td>\n",
       "      <td>-1.052229</td>\n",
       "      <td>-1.289818</td>\n",
       "    </tr>\n",
       "    <tr>\n",
       "      <th>99</th>\n",
       "      <td>-1.232535</td>\n",
       "      <td>1.441628</td>\n",
       "      <td>-0.693647</td>\n",
       "      <td>-0.841684</td>\n",
       "      <td>1.443756</td>\n",
       "      <td>1.152968</td>\n",
       "    </tr>\n",
       "    <tr>\n",
       "      <th>100</th>\n",
       "      <td>0.251323</td>\n",
       "      <td>-0.029240</td>\n",
       "      <td>-1.064077</td>\n",
       "      <td>-1.446882</td>\n",
       "      <td>-1.052229</td>\n",
       "      <td>0.106059</td>\n",
       "    </tr>\n",
       "    <tr>\n",
       "      <th>101</th>\n",
       "      <td>0.166044</td>\n",
       "      <td>1.183660</td>\n",
       "      <td>-0.693647</td>\n",
       "      <td>-0.668770</td>\n",
       "      <td>-1.052229</td>\n",
       "      <td>-1.289818</td>\n",
       "    </tr>\n",
       "  </tbody>\n",
       "</table>\n",
       "<p>102 rows × 6 columns</p>\n",
       "</div>"
      ],
      "text/plain": [
       "          GPA  Test Score  Extracurricular Activities  Volunteer Hours  \\\n",
       "0   -0.328576    0.572685                    0.417641        -0.409399   \n",
       "1    1.632846    1.333010                    1.158500         0.541627   \n",
       "2    0.882389   -0.938915                    0.047212         0.714541   \n",
       "3    0.438937    0.522901                   -0.323218         0.628084   \n",
       "4   -1.079033   -1.595149                   -1.064077        -1.360425   \n",
       "..        ...         ...                         ...              ...   \n",
       "97  -0.140962   -1.472953                   -0.693647         0.628084   \n",
       "98  -1.522485   -0.214796                   -0.323218        -1.619796   \n",
       "99  -1.232535    1.441628                   -0.693647        -0.841684   \n",
       "100  0.251323   -0.029240                   -1.064077        -1.446882   \n",
       "101  0.166044    1.183660                   -0.693647        -0.668770   \n",
       "\n",
       "     Recommendation Letters  Essay Score  \n",
       "0                  0.195764     1.152968  \n",
       "1                  1.443756    -0.940849  \n",
       "2                 -1.052229     1.152968  \n",
       "3                  0.195764    -1.638788  \n",
       "4                 -1.052229    -1.638788  \n",
       "..                      ...          ...  \n",
       "97                 1.443756     1.152968  \n",
       "98                -1.052229    -1.289818  \n",
       "99                 1.443756     1.152968  \n",
       "100               -1.052229     0.106059  \n",
       "101               -1.052229    -1.289818  \n",
       "\n",
       "[102 rows x 6 columns]"
      ]
     },
     "execution_count": 127,
     "metadata": {},
     "output_type": "execute_result"
    }
   ],
   "source": [
    "x"
   ]
  },
  {
   "cell_type": "code",
   "execution_count": 128,
   "metadata": {
    "id": "Zp-kVNMFohJY"
   },
   "outputs": [],
   "source": [
    "y = data['Accepted']\n"
   ]
  },
  {
   "cell_type": "code",
   "execution_count": 129,
   "metadata": {
    "colab": {
     "base_uri": "https://localhost:8080/",
     "height": 458
    },
    "id": "Wsk8XN5PonwB",
    "outputId": "b7f9670a-9b7b-4337-ce18-cdef8b3d206e"
   },
   "outputs": [
    {
     "data": {
      "text/plain": [
       "0      0\n",
       "1      1\n",
       "2      0\n",
       "3      0\n",
       "4      0\n",
       "      ..\n",
       "97     1\n",
       "98     1\n",
       "99     0\n",
       "100    1\n",
       "101    1\n",
       "Name: Accepted, Length: 102, dtype: int64"
      ]
     },
     "execution_count": 129,
     "metadata": {},
     "output_type": "execute_result"
    }
   ],
   "source": [
    "y"
   ]
  },
  {
   "cell_type": "code",
   "execution_count": 130,
   "metadata": {
    "id": "Viak44PCooOd"
   },
   "outputs": [],
   "source": [
    "from sklearn.model_selection import train_test_split\n",
    "x_train, x_test, y_train, y_test = train_test_split(x, y, test_size=0.2, random_state=42)"
   ]
  },
  {
   "cell_type": "code",
   "execution_count": 131,
   "metadata": {
    "id": "WebjaNlyo9G-"
   },
   "outputs": [],
   "source": [
    "from sklearn.linear_model import LogisticRegression\n",
    "from sklearn.tree import DecisionTreeClassifier\n",
    "from sklearn.metrics import accuracy_score, classification_report, confusion_matrix"
   ]
  },
  {
   "cell_type": "code",
   "execution_count": 132,
   "metadata": {
    "id": "uhsgxb03pmub"
   },
   "outputs": [],
   "source": [
    "lr = LogisticRegression()\n",
    "lr.fit(x_train, y_train)\n",
    "dt  = DecisionTreeClassifier()\n",
    "dt.fit(x_train, y_train)\n",
    "y_pred_lr = lr.predict(x_test)\n",
    "y_pred_dt = dt.predict(x_test)\n"
   ]
  },
  {
   "cell_type": "code",
   "execution_count": 147,
   "metadata": {},
   "outputs": [
    {
     "data": {
      "text/plain": [
       "['model.pkl']"
      ]
     },
     "execution_count": 147,
     "metadata": {},
     "output_type": "execute_result"
    }
   ],
   "source": [
    "joblib.dump(lr,'model.pkl')"
   ]
  },
  {
   "cell_type": "code",
   "execution_count": 148,
   "metadata": {
    "colab": {
     "base_uri": "https://localhost:8080/"
    },
    "id": "qf7_FQXBp6WT",
    "outputId": "f5ba4ef7-870f-4967-c251-4d193a0bcebc"
   },
   "outputs": [
    {
     "name": "stdout",
     "output_type": "stream",
     "text": [
      "Accuracy score for lr: 0.38095238095238093\n",
      "Accuracy score for dt: 0.6666666666666666\n"
     ]
    }
   ],
   "source": [
    "print(\"Accuracy score for lr:\", accuracy_score(y_test, y_pred_lr))\n",
    "print(\"Accuracy score for dt:\", accuracy_score(y_test, y_pred_dt))\n"
   ]
  },
  {
   "cell_type": "code",
   "execution_count": 56,
   "metadata": {
    "colab": {
     "base_uri": "https://localhost:8080/"
    },
    "id": "V12pXv5sqETi",
    "outputId": "7e3e0124-a99a-4d42-fa1c-0f5eb2ecaa56"
   },
   "outputs": [
    {
     "name": "stdout",
     "output_type": "stream",
     "text": [
      "classification report for lr:               precision    recall  f1-score   support\n",
      "\n",
      "           0       0.40      0.36      0.38        11\n",
      "           1       0.36      0.40      0.38        10\n",
      "\n",
      "    accuracy                           0.38        21\n",
      "   macro avg       0.38      0.38      0.38        21\n",
      "weighted avg       0.38      0.38      0.38        21\n",
      "\n",
      "classification report for dt:               precision    recall  f1-score   support\n",
      "\n",
      "           0       0.57      0.73      0.64        11\n",
      "           1       0.57      0.40      0.47        10\n",
      "\n",
      "    accuracy                           0.57        21\n",
      "   macro avg       0.57      0.56      0.56        21\n",
      "weighted avg       0.57      0.57      0.56        21\n",
      "\n"
     ]
    }
   ],
   "source": [
    "print(\"classification report for lr:\", classification_report(y_test, y_pred_lr))\n",
    "print(\"classification report for dt:\", classification_report(y_test, y_pred_dt))"
   ]
  },
  {
   "cell_type": "code",
   "execution_count": 58,
   "metadata": {
    "colab": {
     "base_uri": "https://localhost:8080/"
    },
    "id": "rrTULRgDqf6h",
    "outputId": "1767417d-cbdb-4122-b190-9e92f87c2a89"
   },
   "outputs": [
    {
     "name": "stdout",
     "output_type": "stream",
     "text": [
      "confusion matrix for lr: [[4 7]\n",
      " [6 4]]\n",
      "confusion matrix for dt: [[8 3]\n",
      " [6 4]]\n"
     ]
    }
   ],
   "source": [
    "print(\"confusion matrix for lr:\", confusion_matrix(y_test, y_pred_lr))\n",
    "print(\"confusion matrix for dt:\", confusion_matrix(y_test, y_pred_dt))"
   ]
  },
  {
   "cell_type": "code",
   "execution_count": 60,
   "metadata": {
    "colab": {
     "base_uri": "https://localhost:8080/",
     "height": 487
    },
    "id": "-gR1kS55qsYZ",
    "outputId": "335d732e-8127-40db-e0cd-ca2abcab317c"
   },
   "outputs": [
    {
     "data": {
      "image/png": "[encoded data removed]",
      "text/plain": [
       "<Figure size 500x500 with 1 Axes>"
      ]
     },
     "metadata": {},
     "output_type": "display_data"
    }
   ],
   "source": [
    "plt.figure(figsize=(5,5))\n",
    "plt.scatter(x=y_test,y=y_pred_lr, color=\"red\", label=\"LR\")\n",
    "plt.xlabel('y_test')\n",
    "plt.ylabel('y_pred')\n",
    "plt.title('lr vs dt')\n",
    "plt.legend()\n",
    "plt.show()\n",
    "# use threshold <=0.5 ==> No else if >0.5 ==> yes"
   ]
  },
  {
   "cell_type": "code",
   "execution_count": 62,
   "metadata": {
    "colab": {
     "base_uri": "https://localhost:8080/",
     "height": 487
    },
    "id": "G79RTi5LrUyk",
    "outputId": "e06c8c9b-06a3-408a-83f7-b1bbb21695aa"
   },
   "outputs": [
    {
     "data": {
      "image/png": "[encoded data removed]",
      "text/plain": [
       "<Figure size 500x500 with 1 Axes>"
      ]
     },
     "metadata": {},
     "output_type": "display_data"
    }
   ],
   "source": [
    "plt.figure(figsize=(5,5))\n",
    "plt.scatter(x=y_test,y=y_pred_dt, color=\"blue\", label=\"DT\")\n",
    "plt.xlabel('y_test')\n",
    "plt.ylabel('y_pred')\n",
    "plt.title('lr vs dt')\n",
    "plt.legend()\n",
    "plt.show()\n",
    "# use threshold <=0.5 ==> No else if >0.5 ==> yes"
   ]
  },
  {
   "cell_type": "code",
   "execution_count": 63,
   "metadata": {
    "id": "XJ3TS0LxsS5V"
   },
   "outputs": [],
   "source": [
    "from sklearn.model_selection import GridSearchCV, RandomizedSearchCV\n"
   ]
  },
  {
   "cell_type": "code",
   "execution_count": 66,
   "metadata": {
    "colab": {
     "base_uri": "https://localhost:8080/"
    },
    "id": "6TDfxRq8sqJR",
    "outputId": "67491e40-b1ff-4204-e9c4-0ea7a3b58174"
   },
   "outputs": [
    {
     "name": "stdout",
     "output_type": "stream",
     "text": [
      "Best parameters: {'max_iter': 1000}\n",
      "Best score: 0.5566176470588236\n"
     ]
    }
   ],
   "source": [
    "grid_params = {\"max_iter\": [1000, 2000, 3000, 4000, 5000, 6000, 7000, 8000, 9000, 10000]}\n",
    "grid_search = GridSearchCV(lr, grid_params, cv=5)\n",
    "grid_search.fit(x_train, y_train)\n",
    "print(\"Best parameters:\", grid_search.best_params_)\n",
    "print(\"Best score:\", grid_search.best_score_)"
   ]
  },
  {
   "cell_type": "code",
   "execution_count": 68,
   "metadata": {
    "colab": {
     "base_uri": "https://localhost:8080/"
    },
    "id": "9wgTJvGItUkr",
    "outputId": "7e549d0b-6b28-451e-9ae6-d9e0d7c3c7b3"
   },
   "outputs": [
    {
     "name": "stdout",
     "output_type": "stream",
     "text": [
      "Best parameters: {'min_samples_split': 2, 'max_depth': 45}\n",
      "Best score: 0.6169117647058824\n"
     ]
    }
   ],
   "source": [
    "random_params = {\"max_depth\": [10, 15, 20, 30, 35, 40, 45], \"min_samples_split\": [2, 5, 10, 15, 20]}\n",
    "random_search = RandomizedSearchCV(dt, random_params, cv=5)\n",
    "random_search.fit(x_train, y_train)\n",
    "print(\"Best parameters:\", random_search.best_params_)\n",
    "print(\"Best score:\", random_search.best_score_)"
   ]
  },
  {
   "cell_type": "code",
   "execution_count": 81,
   "metadata": {
    "id": "nxpCaeEfuTSy"
   },
   "outputs": [],
   "source": [
    "import gradio as gr"
   ]
  },
  {
   "cell_type": "code",
   "execution_count": 159,
   "metadata": {
    "colab": {
     "base_uri": "https://localhost:8080/",
     "height": 650
    },
    "id": "nyk2ff4wuX5R",
    "outputId": "0a2dc11f-8b8d-4776-b5f3-fa7df05dd935"
   },
   "outputs": [
    {
     "name": "stdout",
     "output_type": "stream",
     "text": [
      "* Running on local URL:  http://127.0.0.1:7869\n",
      "\n",
      "To create a public link, set `share=True` in `launch()`.\n"
     ]
    },
    {
     "data": {
      "text/html": [
       "<div><iframe src=\"http://127.0.0.1:7869/\" width=\"100%\" height=\"500\" allow=\"autoplay; camera; microphone; clipboard-read; clipboard-write;\" frameborder=\"0\" allowfullscreen></iframe></div>"
      ],
      "text/plain": [
       "<IPython.core.display.HTML object>"
      ]
     },
     "metadata": {},
     "output_type": "display_data"
    },
    {
     "data": {
      "text/plain": []
     },
     "execution_count": 159,
     "metadata": {},
     "output_type": "execute_result"
    }
   ],
   "source": [
    "def predict_admission(gpa, ts, ea, vh, rl, es):\n",
    "  try:\n",
    "    input_data = pd.DataFrame(\n",
    "        {\n",
    "            \"GPA\":[gpa],\n",
    "            \"Test Score\":[ts],\n",
    "            \"Extracurricular Activities\":[ea],\n",
    "            \"Volunteer Hours\":[vh],\n",
    "            \"Recommendation Letters\":[rl],\n",
    "            \"Essay Score\":[es]}\n",
    "    )\n",
    "\n",
    "    input_data[std_col]=std.transform(input_data[std_col])\n",
    "    prediction = dt.predict(input_data)\n",
    "    if prediction[0] == 0:\n",
    "          return \"No\"\n",
    "    else:\n",
    "          return \"Yes\"\n",
    "  except Exception as e:\n",
    "        return str(e)\n",
    "gr.Interface(\n",
    "    inputs= [\n",
    "\n",
    "             gr.Number(label=\"GPA\"),\n",
    "             gr.Number(label=\"Test Score\"),\n",
    "             gr.Number(label=\"Extracurricular Activities\"),\n",
    "             gr.Number(label=\"Volunteer Hours\"),\n",
    "             gr.Number(label=\"Recommendation Letters\"),\n",
    "             gr.Number(label=\"Essay Score\")\n",
    "    ],\n",
    "    fn = predict_admission, outputs= gr.Textbox(label=\"Admission Decision\")\n",
    ").launch()"
   ]
  },
  {
   "cell_type": "code",
   "execution_count": null,
   "metadata": {
    "id": "8TjAEZrYwK8p"
   },
   "outputs": [],
   "source": []
  }
 ],
 "metadata": {
  "colab": {
   "provenance": []
  },
  "kernelspec": {
   "display_name": "Python 3 (ipykernel)",
   "language": "python",
   "name": "python3"
  },
  "language_info": {
   "codemirror_mode": {
    "name": "ipython",
    "version": 3
   },
   "file_extension": ".py",
   "mimetype": "text/x-python",
   "name": "python",
   "nbconvert_exporter": "python",
   "pygments_lexer": "ipython3",
   "version": "3.12.7"
  }
 },
 "nbformat": 4,
 "nbformat_minor": 4
}
